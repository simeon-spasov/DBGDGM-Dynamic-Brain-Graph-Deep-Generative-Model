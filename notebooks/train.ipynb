{
 "cells": [
  {
   "cell_type": "code",
   "execution_count": 1,
   "metadata": {},
   "outputs": [],
   "source": [
    "import pathlib\n",
    "import torch\n",
    "\n",
    "import sys\n",
    "sys.path.append(\"../\")\n",
    "\n",
    "from src.datasets import get_dataloaders\n",
    "from src.models import get_model"
   ]
  },
  {
   "cell_type": "code",
   "execution_count": 7,
   "metadata": {},
   "outputs": [
    {
     "ename": "IndentationError",
     "evalue": "unexpected indent (4137048026.py, line 12)",
     "output_type": "error",
     "traceback": [
      "\u001b[0;36m  File \u001b[0;32m\"/var/folders/5s/p5hhvybj7j1067tlc2lw3mghq6rp23/T/ipykernel_21830/4137048026.py\"\u001b[0;36m, line \u001b[0;32m12\u001b[0m\n\u001b[0;31m    alpha_dim=14, beta_dim=17, phi_dim=23, alpha_std=0.1, tau=1.\u001b[0m\n\u001b[0m    ^\u001b[0m\n\u001b[0;31mIndentationError\u001b[0m\u001b[0;31m:\u001b[0m unexpected indent\n"
     ]
    }
   ],
   "source": [
    "data_dir = pathlib.Path(\"../data\")\n",
    "seed = 12345\n",
    "\n",
    "dataset = \"simulated_migration\"\n",
    "valid_prop = test_prop = 0.10\n",
    "num_pos_edges = num_neg_edges = 100 \n",
    "batch_size = 32\n",
    "\n",
    "\n",
    "model = \"dynamic_graph\"\n",
    "num_communities = 4\n",
    "alpha_dim=14 \n",
    "beta_dim=17 \n",
    "phi_dim=23\n",
    "alpha_std=0.1\n",
    "tau=1.\n",
    "\n",
    "\n",
    "\n",
    "dataloaders = get_dataloaders(dataset, data_dir, batch_size=batch_size, valid_prop=valid_prop, test_prop=test_prop, num_pos_edges=num_pos_edges, num_neg_edges=num_neg_edges, seed=seed)\n",
    "train_loader = dataloaders[\"train\"]\n",
    "\n",
    "num_samples = train_loader.dataset.num_samples\n",
    "num_timesteps = train_loader.dataset.num_timesteps\n",
    "num_nodes = train_loader.dataset.num_nodes\n",
    "\n",
    "# model = get_model(model)"
   ]
  },
  {
   "cell_type": "code",
   "execution_count": 1,
   "metadata": {},
   "outputs": [
    {
     "data": {
      "text/plain": [
       "[1, 2]"
      ]
     },
     "execution_count": 1,
     "metadata": {},
     "output_type": "execute_result"
    }
   ],
   "source": [
    "a = [2]\n",
    "[1] + a if type(a) is list else [a]"
   ]
  },
  {
   "cell_type": "code",
   "execution_count": 2,
   "metadata": {},
   "outputs": [],
   "source": [
    "from torch.distributions import kl_divergence"
   ]
  },
  {
   "cell_type": "code",
   "execution_count": 3,
   "metadata": {},
   "outputs": [],
   "source": [
    "import torch\n",
    "\n",
    "adj = torch.rand(2, 3, 3)\n",
    "\n",
    "num_nodes = adj.shape[-1]\n",
    "num_edges = adj.sum(dim=(-2, -1))\n",
    "norm = (num_nodes ** 2) / (((num_nodes ** 2) - num_edges) * 2)"
   ]
  },
  {
   "cell_type": "code",
   "execution_count": 5,
   "metadata": {},
   "outputs": [
    {
     "data": {
      "text/plain": [
       "torch.Size([2])"
      ]
     },
     "execution_count": 5,
     "metadata": {},
     "output_type": "execute_result"
    }
   ],
   "source": [
    "norm.shape"
   ]
  },
  {
   "cell_type": "code",
   "execution_count": null,
   "metadata": {},
   "outputs": [],
   "source": []
  }
 ],
 "metadata": {
  "interpreter": {
   "hash": "51ec5c1ed60cf8befa8860ca3f08c814ab2925157d0f320a0272897779c8d6a1"
  },
  "kernelspec": {
   "display_name": "Python 3.7.0 64-bit ('python': venv)",
   "name": "python3"
  },
  "language_info": {
   "codemirror_mode": {
    "name": "ipython",
    "version": 3
   },
   "file_extension": ".py",
   "mimetype": "text/x-python",
   "name": "python",
   "nbconvert_exporter": "python",
   "pygments_lexer": "ipython3",
   "version": "3.7.0"
  },
  "orig_nbformat": 4
 },
 "nbformat": 4,
 "nbformat_minor": 2
}
