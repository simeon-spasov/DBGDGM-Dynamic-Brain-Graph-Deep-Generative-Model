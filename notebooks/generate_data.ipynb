{
 "cells": [
  {
   "cell_type": "code",
   "execution_count": 10,
   "source": [
    "import pathlib\n",
    "import numpy as np\n",
    "import scipy.sparse as sp\n",
    "\n",
    "import sys\n",
    "sys.path.append(\"../\")"
   ],
   "outputs": [],
   "metadata": {}
  },
  {
   "cell_type": "code",
   "execution_count": 2,
   "source": [
    "data_dir = pathlib.Path(\"../data/synthetic\")\n",
    "\n",
    "num_samples = 50\n",
    "num_nodes = 10\n",
    "num_timesteps = 7\n",
    "\n",
    "for s in range(num_samples):\n",
    "    \n",
    "    graph_timeseries = {}\n",
    "    \n",
    "    for t in range(num_timesteps):   \n",
    "        \n",
    "        A = np.random.randint(0, 2, size=(num_nodes, num_nodes))\n",
    "        W = np.random.rand(num_nodes, num_nodes)\n",
    "        A = A * W\n",
    "        A = (A + A.T) / 2\n",
    "        np.fill_diagonal(A, 0.)\n",
    "\n",
    "        A *= np.tri(*A.shape, k=-1)\n",
    "\n",
    "        A = sp.csr_matrix(A)\n",
    "        \n",
    "        graph_timeseries[str(t)] =  [A]\n",
    "    \n",
    "    np.savez(data_dir / (\"subject_{}\".format(s)), **graph_timeseries)"
   ],
   "outputs": [],
   "metadata": {}
  }
 ],
 "metadata": {
  "interpreter": {
   "hash": "44f0262a492f656dfa9015b652d1e3fa7a52f0859e8f73b60faf9fbbbf0ad3ec"
  },
  "kernelspec": {
   "name": "python3",
   "display_name": "Python 3.7.0 64-bit ('python': venv)"
  },
  "language_info": {
   "codemirror_mode": {
    "name": "ipython",
    "version": 3
   },
   "file_extension": ".py",
   "mimetype": "text/x-python",
   "name": "python",
   "nbconvert_exporter": "python",
   "pygments_lexer": "ipython3",
   "version": "3.7.0"
  },
  "orig_nbformat": 4
 },
 "nbformat": 4,
 "nbformat_minor": 2
}