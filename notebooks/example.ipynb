{
 "cells": [
  {
   "cell_type": "code",
   "execution_count": 1,
   "metadata": {},
   "outputs": [],
   "source": [
    "import torch\n",
    "# import networkx as nx\n",
    "\n",
    "import sys\n",
    "sys.path.append(\"../\")\n",
    "\n",
    "from src.model import Model\n",
    "# from src.train import loss_fnc\n",
    "\n",
    "# from old.dynmodel_hmm_batched import EvolveGraph"
   ]
  },
  {
   "cell_type": "code",
   "execution_count": 2,
   "metadata": {},
   "outputs": [],
   "source": [
    "# graph_ts = [nx.from_numpy_matrix(torch.rand(22, 22).numpy()), nx.from_numpy_matrix(torch.rand(22, 22).numpy())]\n",
    "# batch_graphs = [[1, graph_ts]]\n",
    "# model = EvolveGraph(num_samples=10, num_nodes=22, embedding_dim=13, categorical_dim=8,\n",
    "#                     gamma=0.1, sigma=0.01, device=torch.device(\"cpu\"))\n",
    "\n",
    "# model(batch_graphs)"
   ]
  },
  {
   "cell_type": "code",
   "execution_count": 16,
   "metadata": {},
   "outputs": [],
   "source": [
    "import torch\n",
    "import numpy as np"
   ]
  },
  {
   "cell_type": "code",
   "execution_count": 20,
   "metadata": {},
   "outputs": [
    {
     "name": "stdout",
     "output_type": "stream",
     "text": [
      "tensor(4.8787)\n",
      "tensor(4.8787)\n"
     ]
    }
   ],
   "source": [
    "A = torch.rand(200, 200)\n",
    "p = 5\n",
    "t = A.reshape(-1).quantile((100 - p) / 100)\n",
    "_A = A\n",
    "_A[_A<=t] = 0.\n",
    "print((_A[_A>0].sum() / (200 * 200)) * 100)\n",
    "\n",
    "_A = A\n",
    "_A[_A<=t] = 0.\n",
    "(_A[_A>0].sum() / (200 * 200)) * 100\n",
    "threshold = np.percentile(_A.numpy().flatten(), 100 - p)\n",
    "_A[_A < threshold] = 0.\n",
    "print((_A[_A>0].sum() / (200 * 200)) * 100)"
   ]
  },
  {
   "cell_type": "code",
   "execution_count": 62,
   "metadata": {},
   "outputs": [],
   "source": [
    "import torch\n",
    "import numpy\n",
    "\n",
    "p = 5\n",
    "A = torch.rand(5, 100, 200, 200)\n",
    "A = A.reshape(5, 100, 200 * 200) \n",
    "percentile = (100. - p)\n",
    "threshold = torch.tensor(np.percentile(A.numpy(), percentile, axis=-1)).unsqueeze(-1)\n",
    "A[A <= threshold] = 0.\n",
    "# A = A.reshape(5, 100, 200, 200)\n",
    "# torch.where(A >0., 1., 0.).sum((-2, -1))"
   ]
  },
  {
   "cell_type": "code",
   "execution_count": 65,
   "metadata": {},
   "outputs": [
    {
     "data": {
      "text/plain": [
       "dtype('float64')"
      ]
     },
     "execution_count": 65,
     "metadata": {},
     "output_type": "execute_result"
    }
   ],
   "source": [
    "np.percentile(A.numpy(), percentile, axis=-1)"
   ]
  },
  {
   "cell_type": "code",
   "execution_count": null,
   "metadata": {},
   "outputs": [],
   "source": []
  }
 ],
 "metadata": {
  "interpreter": {
   "hash": "e334c366cf7f6e87f5fe935940c7d6751f57c6438059c6cc189cf0b95ac4eb2d"
  },
  "kernelspec": {
   "display_name": "Python 3.9.2 ('dynamic-graph-generative-model-Ou1M7RSW')",
   "language": "python",
   "name": "python3"
  },
  "language_info": {
   "codemirror_mode": {
    "name": "ipython",
    "version": 3
   },
   "file_extension": ".py",
   "mimetype": "text/x-python",
   "name": "python",
   "nbconvert_exporter": "python",
   "pygments_lexer": "ipython3",
   "version": "3.9.2"
  },
  "orig_nbformat": 4
 },
 "nbformat": 4,
 "nbformat_minor": 2
}
