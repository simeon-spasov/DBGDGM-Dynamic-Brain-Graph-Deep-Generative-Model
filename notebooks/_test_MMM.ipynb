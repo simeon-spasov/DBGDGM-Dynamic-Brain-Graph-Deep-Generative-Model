{
 "cells": [
  {
   "cell_type": "code",
   "execution_count": 7,
   "metadata": {},
   "outputs": [],
   "source": [
    "import numpy as np\n",
    "import itertools\n",
    "import torch\n",
    "import torch.nn.functional as F\n",
    "import leidenalg as la\n",
    "import igraph as ig\n",
    "\n",
    "import sys\n",
    "sys.path.append(\"../\")\n",
    "\n",
    "from src.metrics.supervised import evaluate_supervised\n",
    "# import matplotlib.pyplot as plt"
   ]
  },
  {
   "cell_type": "code",
   "execution_count": 8,
   "metadata": {},
   "outputs": [],
   "source": [
    "def create_igraph(A, directed=False):\n",
    "\n",
    "    # get row and col indices of non-zero elements in adjacency matrix\n",
    "    connection_indices = np.where(A)\n",
    "    # create edges as a sequence of (i, j) tuples\n",
    "    edges = zip(*connection_indices)\n",
    "    # get the weights corresponding to connections\n",
    "    weights = A[connection_indices]\n",
    "    # initialize the graph from the edge sequence\n",
    "    G = ig.Graph(edges=edges, directed=directed)\n",
    "    # assign node names and weights to be attributes of the vertices and edges respectively\n",
    "    G.vs[\"id\"] = range(A.shape[0])\n",
    "    G.es[\"weight\"] = weights\n",
    "\n",
    "    # assert np.alltrue(A == np.array(G.get_adjacency(attribute=\"weight\").data))\n",
    "    \n",
    "    return G"
   ]
  },
  {
   "cell_type": "code",
   "execution_count": 9,
   "metadata": {},
   "outputs": [],
   "source": [
    "def permute_labels(C_pred, C_true):\n",
    "\n",
    "    # check shape\n",
    "    # check one hot\n",
    "\n",
    "    best_acc = 0.\n",
    "    best_perm = tuple()\n",
    "\n",
    "    for perm in list(itertools.permutations(range(C_true.shape[-1]))):\n",
    "        \n",
    "        C_pred_prem = C_pred[..., perm]\n",
    "        acc = ((C_pred_prem == C_true) * 1.).mean().item()\n",
    "\n",
    "        if acc > best_acc:\n",
    "            \n",
    "            best_acc = acc\n",
    "            best_perm = perm\n",
    "\n",
    "    return C_pred[..., best_perm]"
   ]
  },
  {
   "cell_type": "code",
   "execution_count": 14,
   "metadata": {},
   "outputs": [
    {
     "data": {
      "text/plain": [
       "{'f1': 0.8666666746139526,\n",
       " 'precision': 0.8666666746139526,\n",
       " 'recall': 0.8666666746139526,\n",
       " 'hamming': 0.10000002384185791,\n",
       " 'jaccard': 0.9750000238418579,\n",
       " 'nmi': 1.0}"
      ]
     },
     "execution_count": 14,
     "metadata": {},
     "output_type": "execute_result"
    }
   ],
   "source": [
    "def train(dataset=\"data.npz\", gamma=1, n_iter=10, seed=1234):\n",
    "\n",
    "    data_path = \"../data/\" + dataset\n",
    "    data_dic = dict(np.load(data_path, allow_pickle=True).items())\n",
    "\n",
    "    samples_adj_ts = data_dic[\"A\"]\n",
    "    samples_comm_ts = torch.from_numpy(data_dic[\"C\"]).long()\n",
    "\n",
    "    samples_comm_ts_pred = np.zeros(shape=samples_adj_ts.shape[:-1], dtype=int)\n",
    "\n",
    "    for sample_idx, adj_ts in enumerate(samples_adj_ts):\n",
    "\n",
    "        graph_ts = [create_igraph(adj_t) for adj_t in adj_ts]\n",
    "\n",
    "        community_ts, _ = la.find_partition_temporal(graph_ts,  partition_type=la.RBConfigurationVertexPartition, resolution_parameter=gamma, n_iterations=n_iter, seed=seed)\n",
    "        \n",
    "        samples_comm_ts_pred[sample_idx] = np.asarray(community_ts)\n",
    "\n",
    "    samples_comm_ts_pred = torch.from_numpy(samples_comm_ts_pred)\n",
    "    samples_comm_ts_pred = F.one_hot(samples_comm_ts_pred, num_classes=samples_adj_ts.shape[-1]).long()\n",
    "    samples_comm_ts_pred = permute_labels(samples_comm_ts_pred, samples_comm_ts)\n",
    "\n",
    "    metrics = evaluate_supervised(samples_comm_ts_pred, samples_comm_ts)\n",
    "    # save results "
   ]
  },
  {
   "cell_type": "code",
   "execution_count": 6,
   "metadata": {},
   "outputs": [],
   "source": [
    "# afig, ax = plt.subplots(figsize = (30, 1))\n",
    "# ax.imshow(np.array(membership).T)\n",
    "# plt.show()"
   ]
  }
 ],
 "metadata": {
  "interpreter": {
   "hash": "417ae7846aa939c5468458bfb1f6507418fb70e6e340aeb47010086c1bef9703"
  },
  "kernelspec": {
   "display_name": "Python 3.7.0 64-bit ('dynamic-graph-generative-model-vnSGx9wY-python': pipenv)",
   "language": "python",
   "name": "python3"
  },
  "language_info": {
   "codemirror_mode": {
    "name": "ipython",
    "version": 3
   },
   "file_extension": ".py",
   "mimetype": "text/x-python",
   "name": "python",
   "nbconvert_exporter": "python",
   "pygments_lexer": "ipython3",
   "version": "3.7.0"
  },
  "orig_nbformat": 4
 },
 "nbformat": 4,
 "nbformat_minor": 2
}
