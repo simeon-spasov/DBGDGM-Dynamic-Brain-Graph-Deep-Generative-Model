{
 "cells": [
  {
   "cell_type": "code",
   "execution_count": 1,
   "metadata": {},
   "outputs": [],
   "source": [
    "# allow imports from parent directory\n",
    "import sys \n",
    "sys.path.append(\"../\")\n",
    "\n",
    "import numpy as np\n",
    "import pandas as pd\n",
    "\n",
    "from sklearn.linear_model import RidgeClassifier\n",
    "from nilearn.connectome import ConnectivityMeasure\n",
    "from sklearn.model_selection import train_test_split\n",
    "\n",
    "from src.dataset import _get_filepaths, _load_timeseries"
   ]
  },
  {
   "cell_type": "code",
   "execution_count": 2,
   "metadata": {},
   "outputs": [
    {
     "name": "stdout",
     "output_type": "stream",
     "text": [
      "dataset: hcp | percentile:   0 time:   50 | run:  1 | acc: 61.7%\n",
      "dataset: hcp | percentile:   0 time:   50 | run:  2 | acc: 56.7%\n",
      "dataset: hcp | percentile:   0 time:   50 | run:  3 | acc: 66.7%\n",
      "dataset: hcp | percentile:   0 time:   50 | run:  4 | acc: 61.7%\n",
      "dataset: hcp | percentile:   0 time:   50 | run:  5 | acc: 63.3%\n",
      "dataset: hcp | percentile:   0 time:  100 | run:  1 | acc: 80.0%\n",
      "dataset: hcp | percentile:   0 time:  100 | run:  2 | acc: 66.7%\n",
      "dataset: hcp | percentile:   0 time:  100 | run:  3 | acc: 73.3%\n",
      "dataset: hcp | percentile:   0 time:  100 | run:  4 | acc: 78.3%\n",
      "dataset: hcp | percentile:   0 time:  100 | run:  5 | acc: 70.0%\n",
      "dataset: hcp | percentile:   0 time:  200 | run:  1 | acc: 80.0%\n",
      "dataset: hcp | percentile:   0 time:  200 | run:  2 | acc: 78.3%\n",
      "dataset: hcp | percentile:   0 time:  200 | run:  3 | acc: 76.7%\n",
      "dataset: hcp | percentile:   0 time:  200 | run:  4 | acc: 80.0%\n",
      "dataset: hcp | percentile:   0 time:  200 | run:  5 | acc: 68.3%\n",
      "dataset: hcp | percentile:   0 time:  600 | run:  1 | acc: 75.0%\n"
     ]
    }
   ],
   "source": [
    "seed = 12345\n",
    "num_runs = 5\n",
    "test_prop = 0.2\n",
    "\n",
    "alpha = 1.\n",
    "measure = \"correlation\" # \"partial correlation\"  \"precision\"\n",
    "top_percent = [0, 5, 10, 25, 50, 80]\n",
    "max_timepoint = [50, 100, 200, 600, 1200]\n",
    "\n",
    "results = []\n",
    "for dataset, fpaths in dict(hcp=_get_filepaths(dataset=\"hcp\", data_dir=\"../data\"),\n",
    "                            ukb=_get_filepaths(dataset=\"ukb\", data_dir=\"../data\")).items():\n",
    "    for p in top_percent:\n",
    "        for t in max_timepoint:\n",
    "            if (dataset == \"ukb\") and (t > 600):\n",
    "                break\n",
    "            for run in range(1, num_runs + 1):\n",
    "                model = RidgeClassifier(alpha=alpha, class_weight=\"balanced\", solver=\"auto\")\n",
    "                conn = ConnectivityMeasure(kind=measure, vectorize=False, discard_diagonal=False)\n",
    "                X, y = [], []\n",
    "                for fpath in fpaths:    \n",
    "                    _X, _y = _load_timeseries(fpath, zscore=True)\n",
    "                    fcm = conn.fit_transform([_X[:, :t].T])[0]\n",
    "                    np.fill_diagonal(fcm, 0.)\n",
    "                    if p > 0.:\n",
    "                        threshold = np.percentile(fcm.flatten(), 100. - p)\n",
    "                        fcm[fcm < threshold] = 0.\n",
    "                    X += [fcm[np.tril_indices(fcm.shape[-1])]]\n",
    "                    y += [_y]\n",
    "                X = np.array(X)\n",
    "                y = np.array(y)\n",
    "                X_train, X_test, y_train, y_test = train_test_split(X, y, test_size=test_prop, random_state=seed + run)\n",
    "                model.fit(X_train, y_train)\n",
    "                acc = model.score(X_test, y_test) \n",
    "                results += [[dataset, p, t, run, acc]]\n",
    "                print(\"dataset: {} | thresh: {:3d} | time: {:4d} | run: {:2d} | acc: {:04.1f}%\".format(dataset, p, t, run, acc * 100))\n",
    "\n",
    "df = pd.DataFrame(results)\n",
    "df.columns = [\"dataset\", \"thresh\", \"max_time\", \"run\", \"acc\"]\n",
    "df.groupby([\"dataset\", \"thresh\", \"max_time\"], as_index=False).agg({\"acc\": [\"mean\", \"std\"]})"
   ]
  },
  {
   "cell_type": "code",
   "execution_count": null,
   "metadata": {},
   "outputs": [],
   "source": []
  }
 ],
 "metadata": {
  "kernelspec": {
   "display_name": "Python 3.9.2 ('dynamic-graph-generative-model-Ou1M7RSW')",
   "language": "python",
   "name": "python3"
  },
  "language_info": {
   "codemirror_mode": {
    "name": "ipython",
    "version": 3
   },
   "file_extension": ".py",
   "mimetype": "text/x-python",
   "name": "python",
   "nbconvert_exporter": "python",
   "pygments_lexer": "ipython3",
   "version": "3.9.2"
  },
  "orig_nbformat": 4,
  "vscode": {
   "interpreter": {
    "hash": "e334c366cf7f6e87f5fe935940c7d6751f57c6438059c6cc189cf0b95ac4eb2d"
   }
  }
 },
 "nbformat": 4,
 "nbformat_minor": 2
}
