{
 "cells": [
  {
   "cell_type": "code",
   "execution_count": 11,
   "metadata": {},
   "outputs": [],
   "source": [
    "import numpy as np\n",
    "\n",
    "import sys\n",
    "sys.path.append(\"../\")"
   ]
  },
  {
   "cell_type": "code",
   "execution_count": 12,
   "metadata": {},
   "outputs": [],
   "source": [
    "path_to_file = \"../results/394fe38f/output.npz\"\n",
    "results = np.load(path_to_file)\n",
    "alpha, beta, phi, comm_nodes = results.values()"
   ]
  },
  {
   "cell_type": "code",
   "execution_count": 13,
   "metadata": {},
   "outputs": [
    {
     "name": "stdout",
     "output_type": "stream",
     "text": [
      "(809, 3)\n",
      "(5, 8, 32, 120)\n",
      "(5, 200, 32, 120)\n",
      "(5, 8, 200, 120)\n"
     ]
    }
   ],
   "source": [
    "# train_size, embedding_dim\n",
    "print(alpha.shape)\n",
    "\n",
    "# batch_size, num_communities, embedding_dim, num_timepoints\n",
    "print(beta.shape)\n",
    "\n",
    "# batch_size, num_nodes, embedding_dim, num_timepoints\n",
    "print(phi.shape)\n",
    "\n",
    "# batch_size, num_communities, num_nodes, num_timepoints\n",
    "print(comm_nodes.shape)"
   ]
  }
 ],
 "metadata": {
  "interpreter": {
   "hash": "e334c366cf7f6e87f5fe935940c7d6751f57c6438059c6cc189cf0b95ac4eb2d"
  },
  "kernelspec": {
   "display_name": "Python 3.9.2 ('dynamic-graph-generative-model-Ou1M7RSW')",
   "language": "python",
   "name": "python3"
  },
  "language_info": {
   "codemirror_mode": {
    "name": "ipython",
    "version": 3
   },
   "file_extension": ".py",
   "mimetype": "text/x-python",
   "name": "python",
   "nbconvert_exporter": "python",
   "pygments_lexer": "ipython3",
   "version": "3.9.2"
  },
  "orig_nbformat": 4
 },
 "nbformat": 4,
 "nbformat_minor": 2
}
