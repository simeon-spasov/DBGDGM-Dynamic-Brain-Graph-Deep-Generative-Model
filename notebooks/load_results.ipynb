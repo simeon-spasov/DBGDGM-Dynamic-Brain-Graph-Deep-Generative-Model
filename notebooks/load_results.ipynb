{
 "cells": [
  {
   "cell_type": "code",
   "execution_count": 1,
   "metadata": {},
   "outputs": [],
   "source": [
    "import numpy as np\n",
    "\n",
    "import sys\n",
    "sys.path.append(\"../\")\n"
   ]
  },
  {
   "cell_type": "code",
   "execution_count": 6,
   "metadata": {},
   "outputs": [],
   "source": [
    "path_to_file = \"../results/394fe38f/output.npz\"\n",
    "results = np.load(path_to_file)\n",
    "alpha, beta, phi, comm_nodes = results.values()"
   ]
  },
  {
   "cell_type": "code",
   "execution_count": 10,
   "metadata": {},
   "outputs": [
    {
     "data": {
      "text/plain": [
       "(809, 3)"
      ]
     },
     "execution_count": 10,
     "metadata": {},
     "output_type": "execute_result"
    }
   ],
   "source": [
    "# train_size, embedding_dim\n",
    "print(alpha.shape)\n",
    "\n",
    "# batch_size, num_communities, embedding_dim, num_timepoints\n",
    "print(beta.shape)\n",
    "\n",
    "# batch_size, num_nodes, embedding_dim, num_timepoints\n",
    "print(phi.shape)\n",
    "\n",
    "# batch_size, num_communities, num_nodes, num_timepoints\n",
    "print(comm_nodes.shape)"
   ]
  },
  {
   "cell_type": "code",
   "execution_count": null,
   "metadata": {},
   "outputs": [],
   "source": []
  }
 ],
 "metadata": {
  "interpreter": {
   "hash": "e334c366cf7f6e87f5fe935940c7d6751f57c6438059c6cc189cf0b95ac4eb2d"
  },
  "kernelspec": {
   "display_name": "Python 3.9.2 ('dynamic-graph-generative-model-Ou1M7RSW')",
   "language": "python",
   "name": "python3"
  },
  "language_info": {
   "codemirror_mode": {
    "name": "ipython",
    "version": 3
   },
   "file_extension": ".py",
   "mimetype": "text/x-python",
   "name": "python",
   "nbconvert_exporter": "python",
   "pygments_lexer": "ipython3",
   "version": "3.9.2"
  },
  "orig_nbformat": 4
 },
 "nbformat": 4,
 "nbformat_minor": 2
}
