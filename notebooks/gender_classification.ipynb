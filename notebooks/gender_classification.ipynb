{
 "cells": [
  {
   "cell_type": "code",
   "execution_count": 1,
   "id": "d83b3292",
   "metadata": {},
   "outputs": [],
   "source": [
    "import sys \n",
    "sys.path.append(\"../\")\n",
    "\n",
    "import numpy as np\n",
    "\n",
    "from sklearn.svm import SVC\n",
    "from sklearn.model_selection import StratifiedShuffleSplit, cross_val_score\n",
    "from sklearn.preprocessing import StandardScaler\n",
    "from sklearn.pipeline import Pipeline\n",
    "\n",
    "from pathlib import Path\n",
    "\n",
    "from src.dataset import load_dataset\n",
    "\n",
    "import matplotlib.pyplot as plt"
   ]
  },
  {
   "cell_type": "code",
   "execution_count": 2,
   "id": "0aeeb5c3",
   "metadata": {},
   "outputs": [],
   "source": [
    "def classify(X, y, C=1, kernel=\"rbf\", num_runs=5, seed=12345, n_jobs=-1, **kwargs):\n",
    "    model = SVC(C=C, kernel=kernel, random_state=seed, **kwargs)\n",
    "    kfold = StratifiedShuffleSplit(n_splits=num_runs, test_size=0.10, random_state=seed)\n",
    "    pipeline = Pipeline([(\"scale\", StandardScaler()), (\"clf\", model)])\n",
    "    return cross_val_score(pipeline, X, y, cv=kfold, n_jobs=n_jobs)"
   ]
  },
  {
   "cell_type": "code",
   "execution_count": 3,
   "id": "71b8ffdd",
   "metadata": {},
   "outputs": [],
   "source": [
    "dataset=\"ukb\"  # use \"hcp\" or \"ukb\" here\n",
    "trial = 0\n",
    "seed = 12345\n",
    "num_runs = 10"
   ]
  },
  {
   "cell_type": "code",
   "execution_count": 4,
   "id": "a36dcb61",
   "metadata": {},
   "outputs": [],
   "source": [
    "data_dir = \"../data\"\n",
    "dataset_args = dict(dataset=dataset,\n",
    "                        window_size=30,\n",
    "                        window_stride=30,\n",
    "                        measure=\"correlation\",\n",
    "                        top_percent=5)\n",
    "data = load_dataset(dataset=dataset, data_dir=data_dir)  # Need to load dataset for gender labels"
   ]
  },
  {
   "cell_type": "code",
   "execution_count": 6,
   "id": "77cd69c1",
   "metadata": {},
   "outputs": [],
   "source": [
    "# Default path from training script\n",
    "save_path = Path.cwd().parent / f\"models_{dataset}_{trial}\"  # Change path if models saved elsewhere\n",
    "\n",
    "# Load the embeddings from the best model according to validation negative log-likelihood\n",
    "results = np.load(save_path / \"results.npy\", allow_pickle=True).item()\n",
    "embeddings = results['embeddings']"
   ]
  },
  {
   "cell_type": "code",
   "execution_count": 10,
   "id": "97151a03",
   "metadata": {},
   "outputs": [
    {
     "name": "stdout",
     "output_type": "stream",
     "text": [
      "Gender classification accuracy: 0.74 ±  0.08666666666666668\n"
     ]
    }
   ],
   "source": [
    "x, y = [], []\n",
    "for subject_idx, subject_graphs, gender_label in data:\n",
    "    betas = np.array(embeddings[subject_idx]['beta_embeddings']['train']).mean((0, 1))\n",
    "    x += [betas]\n",
    "    y += [gender_label]\n",
    "\n",
    "X = np.array(x)\n",
    "Y = np.array(y)\n",
    "\n",
    "results = classify(X, Y, num_runs=num_runs, seed=seed)\n",
    "print(f'Gender classification accuracy: {np.mean(results)} ±  {np.std(results)}' ) "
   ]
  },
  {
   "cell_type": "code",
   "execution_count": null,
   "id": "cef84ca8",
   "metadata": {},
   "outputs": [],
   "source": []
  }
 ],
 "metadata": {
  "kernelspec": {
   "display_name": "Python 3 (ipykernel)",
   "language": "python",
   "name": "python3"
  },
  "language_info": {
   "codemirror_mode": {
    "name": "ipython",
    "version": 3
   },
   "file_extension": ".py",
   "mimetype": "text/x-python",
   "name": "python",
   "nbconvert_exporter": "python",
   "pygments_lexer": "ipython3",
   "version": "3.9.10"
  }
 },
 "nbformat": 4,
 "nbformat_minor": 5
}
