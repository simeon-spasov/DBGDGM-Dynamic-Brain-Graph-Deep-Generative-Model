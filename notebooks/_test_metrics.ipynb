{
 "cells": [
  {
   "cell_type": "code",
   "execution_count": 17,
   "metadata": {},
   "outputs": [],
   "source": [
    "import torch\n",
    "import torch.nn.functional as F\n",
    "import torchmetrics.functional as metrics\n",
    "import numpy as np\n"
   ]
  },
  {
   "cell_type": "code",
   "execution_count": 28,
   "metadata": {},
   "outputs": [
    {
     "name": "stdout",
     "output_type": "stream",
     "text": [
      "torch.Size([2, 100, 4])\n",
      "torch.Size([2, 100, 4])\n"
     ]
    }
   ],
   "source": [
    "X = F.one_hot(torch.randint(0, 4, size=(2, 100, )), num_classes=4)\n",
    "Y = F.one_hot(torch.randint(0, 3, size=(2, 100,)), num_classes=4)\n",
    "print(X.shape)\n",
    "print(Y.shape)"
   ]
  },
  {
   "cell_type": "code",
   "execution_count": 133,
   "metadata": {},
   "outputs": [
    {
     "data": {
      "text/plain": [
       "tensor([0.2025, 0.1880])"
      ]
     },
     "execution_count": 133,
     "metadata": {},
     "output_type": "execute_result"
    }
   ],
   "source": [
    "def symmetric_jaccard(C_pred, C_true, reduction=\"mean\"):\n",
    "    intersection = C_pred.transpose(dim0=-2, dim1=-1).matmul(C_true)\n",
    "    union = (C_true.sum(dim=-2).unsqueeze(-2) + C_pred.sum(dim=-2).unsqueeze(dim=-1))- intersection\n",
    "    iou = intersection / union\n",
    "    jaccard = 0.5 * (iou.max(dim=-2)[0].mean(dim=-1) + iou.max(dim=-1)[0].mean(dim=-1))\n",
    "    return jarrard"
   ]
  },
  {
   "cell_type": "code",
   "execution_count": 131,
   "metadata": {},
   "outputs": [
    {
     "data": {
      "text/plain": [
       "0.20254978934219386"
      ]
     },
     "execution_count": 131,
     "metadata": {},
     "output_type": "execute_result"
    }
   ],
   "source": [
    "F1 = X.numpy()[0]\n",
    "F2 = Y.numpy()[0]\n",
    "intersections = F1.T.dot(F2)\n",
    "sum_F1 = F1.sum(0)\n",
    "sum_F2 = F2.sum(0)\n",
    "unions = (np.ravel(sum_F2) + np.ravel(sum_F1)[:, None]) - intersections\n",
    "jacs = intersections / unions\n",
    "0.5 * (jacs.max(0).mean() + jacs.max(1).mean())"
   ]
  },
  {
   "cell_type": "code",
   "execution_count": 132,
   "metadata": {},
   "outputs": [
    {
     "data": {
      "text/plain": [
       "tensor([[[0.2128, 0.0600, 0.2041, 0.0000],\n",
       "         [0.2292, 0.1224, 0.1509, 0.0000],\n",
       "         [0.1176, 0.1778, 0.1800, 0.0000],\n",
       "         [0.1250, 0.2826, 0.1607, 0.0000]],\n",
       "\n",
       "        [[0.1600, 0.1731, 0.1923, 0.0000],\n",
       "         [0.0926, 0.2400, 0.2115, 0.0000],\n",
       "         [0.2143, 0.0800, 0.1458, 0.0000],\n",
       "         [0.1915, 0.1800, 0.1321, 0.0000]]])"
      ]
     },
     "execution_count": 132,
     "metadata": {},
     "output_type": "execute_result"
    }
   ],
   "source": [
    "jac"
   ]
  },
  {
   "cell_type": "code",
   "execution_count": null,
   "metadata": {},
   "outputs": [],
   "source": []
  }
 ],
 "metadata": {
  "interpreter": {
   "hash": "417ae7846aa939c5468458bfb1f6507418fb70e6e340aeb47010086c1bef9703"
  },
  "kernelspec": {
   "display_name": "Python 3.7.0 64-bit ('dynamic-graph-generative-model-vnSGx9wY-python': pipenv)",
   "language": "python",
   "name": "python3"
  },
  "language_info": {
   "codemirror_mode": {
    "name": "ipython",
    "version": 3
   },
   "file_extension": ".py",
   "mimetype": "text/x-python",
   "name": "python",
   "nbconvert_exporter": "python",
   "pygments_lexer": "ipython3",
   "version": "3.7.0"
  },
  "orig_nbformat": 4
 },
 "nbformat": 4,
 "nbformat_minor": 2
}
