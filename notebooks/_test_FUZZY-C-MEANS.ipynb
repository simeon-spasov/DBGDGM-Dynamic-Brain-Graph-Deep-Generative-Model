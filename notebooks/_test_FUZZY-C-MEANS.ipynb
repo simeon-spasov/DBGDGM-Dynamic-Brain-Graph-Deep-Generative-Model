{
 "cells": [
  {
   "cell_type": "code",
   "execution_count": 360,
   "metadata": {},
   "outputs": [],
   "source": [
    "# https://github.com/jfpower/anfis-pytorch/blob/master/cmeans.py\n",
    "# https://github.com/holtskinner/PossibilisticCMeans/blob/master/cmeans.py\n",
    "\n",
    "import itertools\n",
    "import numpy as np\n",
    "import torch\n",
    "import torch.nn as nn\n",
    "import torch.nn.functional as F\n",
    "from torch.utils.data import TensorDataset, DataLoader\n",
    "\n",
    "\n",
    "class FuzzyCMeans(nn.Module):\n",
    "    '''fuzzy c-means clustering.'''\n",
    "\n",
    "    def __init__(self, num_clusters, num_features, m=1.7, epsilon=1e-12, device=torch.device(\"cpu\")):\n",
    "\n",
    "        super(FuzzyCMeans, self).__init__()\n",
    "\n",
    "        self.num_clusters = num_clusters\n",
    "        self.num_features = num_features\n",
    "        self.m = m\n",
    "        self.epsilon = epsilon\n",
    "\n",
    "        self.C = torch.zeros(self.num_clusters, self.num_features).to(device)\n",
    "        self.C_init = False\n",
    "\n",
    "\n",
    "    def _initialize_C(self, X):\n",
    "\n",
    "        # initialize cluster centers randomly from observed data\n",
    "        self.C = X[np.random.choice(len(X), self.num_clusters, replace=False)]\n",
    "        self.C_init = True\n",
    "\n",
    "\n",
    "    def _euclidean_distance(self, x1, x2):\n",
    "        \n",
    "        dist = (x1.unsqueeze(dim=-2) - x2.unsqueeze(dim=-3)).pow(2).sum(dim=-1).squeeze()\n",
    "    \n",
    "        return dist.clamp_min_(self.epsilon)\n",
    "\n",
    "\n",
    "    def _update_C(self, X, U):\n",
    "\n",
    "        UM = U.pow(self.m)\n",
    "        C = torch.einsum(\"mi, mj -> ij\", UM, X)\n",
    "        C /= UM.sum(dim=0).clamp_min_(self.epsilon).unsqueeze(1)\n",
    "        self.C = C\n",
    "\n",
    "\n",
    "    def _assign_cluster(self, X):\n",
    "\n",
    "        D = self._euclidean_distance(X, self.C)\n",
    "        U = D.pow(-2. / (self.m - 1))\n",
    "        U /= U.sum(dim=1, keepdim=True)\n",
    "        \n",
    "        return U\n",
    "\n",
    "    \n",
    "    def predict(self, X, threshold=None, y=None):\n",
    "\n",
    "        y_pred = self._assign_cluster(X)\n",
    "     \n",
    "        if threshold is not None:\n",
    "\n",
    "            y_pred = torch.where(y_pred > threshold, 1., 0.)\n",
    "\n",
    "            if y is not None:\n",
    "                \n",
    "                y_pred, _ = permute_labels(y_pred , y)\n",
    "\n",
    "        return y_pred\n",
    "\n",
    "\n",
    "    def forward(self, X):\n",
    "\n",
    "        if not self.C_init:\n",
    "            self._initialize_C(X)\n",
    "\n",
    "        C_init = self.C\n",
    "\n",
    "        U = self._assign_cluster(X)\n",
    "        self._update_C(X, U)\n",
    "\n",
    "        loss = F.l1_loss(self.C, C_init, reduction=\"sum\")\n",
    "        \n",
    "        return loss"
   ]
  },
  {
   "cell_type": "code",
   "execution_count": 513,
   "metadata": {},
   "outputs": [],
   "source": [
    "def fuzzy_c_means_full(dataset, num_clusters, m=1.7, num_epochs=250, min_change=1e-5):\n",
    "\n",
    "    X = dataset\n",
    "    num_features = X.shape[-1]\n",
    "\n",
    "    fuzzy_c_means = FuzzyCMeans(num_clusters, num_features, m)\n",
    "\n",
    "    for epoch in range(num_epochs):\n",
    "\n",
    "        loss = fuzzy_c_means(X)\n",
    "\n",
    "        print(\"epoch {:4d} of {:4d} | loss {:6.4f}\".format(epoch, num_epochs, loss.item()))\n",
    "\n",
    "        if loss < min_change:\n",
    "            break\n",
    "\n",
    "    return fuzzy_c_means\n",
    "\n",
    "\n",
    "def fuzzy_c_means_mini_batch(dataset, num_clusters, m=1.7, batch_size=500, num_epochs=250, min_change=1e-5):\n",
    "\n",
    "    num_samples, time_len, num_nodes, num_features = A.shape = dataset.tensors[0].shape\n",
    "\n",
    "    dataloader = DataLoader(dataset, batch_size=batch_size, shuffle=True)\n",
    "    \n",
    "    fcm = FuzzyCMeans(num_clusters, num_features, m)\n",
    "\n",
    "    for epoch in range(num_epochs):\n",
    "\n",
    "        C = fcm.C\n",
    "\n",
    "        for X, _F in dataloader:\n",
    "\n",
    "            _ = fcm(X)\n",
    "\n",
    "        loss = F.l1_loss(fcm.C, C, reduction=\"sum\")\n",
    "\n",
    "        print(\"epoch {:4d} of {:4d} | loss {:8.6f}\".format(epoch, num_epochs, loss.item()))\n",
    "\n",
    "        if loss < min_change:\n",
    "            break\n",
    "        \n",
    "    return fcm"
   ]
  },
  {
   "cell_type": "code",
   "execution_count": 514,
   "metadata": {},
   "outputs": [],
   "source": [
    "def permute_labels(y_pred, y):\n",
    "\n",
    "    # check shape\n",
    "    # check one hot\n",
    "\n",
    "    best_acc = 0.\n",
    "    best_perm = tuple()\n",
    "\n",
    "    for perm in list(itertools.permutations(range(y.shape[-1]))):\n",
    "        \n",
    "        y_pred_prem = y_pred[..., perm]\n",
    "        acc = ((y_pred_prem == y) * 1.).mean().item()\n",
    "\n",
    "        if acc > best_acc:\n",
    "            \n",
    "            best_acc = acc\n",
    "            best_perm = perm\n",
    "\n",
    "    return y_pred[..., best_perm], best_perm"
   ]
  },
  {
   "cell_type": "code",
   "execution_count": 521,
   "metadata": {},
   "outputs": [
    {
     "name": "stdout",
     "output_type": "stream",
     "text": [
      "1000\n"
     ]
    }
   ],
   "source": [
    "data_path = \"../data/data.npz\"\n",
    "\n",
    "data_dic = dict(np.load(data_path, allow_pickle=True).items())\n",
    "A = torch.from_numpy(data_dic[\"A\"]).float()\n",
    "# num_samples, time_len, num_nodes, _ = A.shape\n",
    "# indices = np.random.choice(range(num_samples), 10)\n",
    "# A = A[indices]\n",
    "X = torch.from_numpy(data_dic[\"X\"]).float() #[indices]\n",
    "C = torch.from_numpy(data_dic[\"C\"]).float() #[indices]\n",
    "\n",
    "#num_samples, time_len, num_nodes, _ = A.shape\n",
    "A_X = torch.cat([A, X], dim=-1) #.reshape(num_samples * time_len * num_nodes, -1)\n",
    "#C = C.reshape(num_samples * time_len * num_nodes, -1)\n",
    "dataset = TensorDataset(A_X, C)\n",
    "\n",
    "print(A_X.shape[0])\n",
    "\n",
    "# fcm = fuzzy_c_means_mini_batch(dataset, num_clusters=4, m=1.7, num_epochs=100, batch_size=A_X.shape[0])\n",
    "# fcm = sgd_cluster(dataset, num_clusters=4)"
   ]
  },
  {
   "cell_type": "code",
   "execution_count": 519,
   "metadata": {},
   "outputs": [
    {
     "name": "stdout",
     "output_type": "stream",
     "text": [
      "99.99\n"
     ]
    }
   ],
   "source": [
    "A_X, y = dataset.tensors\n",
    "\n",
    "y_pred = fcm.predict(A_X, threshold=0.4, y=y)\n",
    "\n",
    "acc = ((y_pred.argmax(-1) == y.argmax(-1)) * 1.).mean().item() * 100\n",
    "\n",
    "print(round(acc, 2))"
   ]
  },
  {
   "cell_type": "code",
   "execution_count": 520,
   "metadata": {},
   "outputs": [
    {
     "data": {
      "text/plain": [
       "tensor([[1., 0., 0., 0.],\n",
       "        [1., 0., 0., 0.],\n",
       "        [1., 0., 0., 0.],\n",
       "        ...,\n",
       "        [0., 0., 0., 1.],\n",
       "        [0., 0., 0., 1.],\n",
       "        [0., 0., 0., 1.]])"
      ]
     },
     "execution_count": 520,
     "metadata": {},
     "output_type": "execute_result"
    }
   ],
   "source": [
    "y_pred"
   ]
  },
  {
   "cell_type": "code",
   "execution_count": 483,
   "metadata": {},
   "outputs": [
    {
     "data": {
      "text/plain": [
       "25.0"
      ]
     },
     "execution_count": 483,
     "metadata": {},
     "output_type": "execute_result"
    }
   ],
   "source": [
    "(1/4) * 100"
   ]
  },
  {
   "cell_type": "code",
   "execution_count": null,
   "metadata": {},
   "outputs": [],
   "source": []
  }
 ],
 "metadata": {
  "interpreter": {
   "hash": "417ae7846aa939c5468458bfb1f6507418fb70e6e340aeb47010086c1bef9703"
  },
  "kernelspec": {
   "display_name": "Python 3.7.0 64-bit ('dynamic-graph-generative-model-vnSGx9wY-python': pipenv)",
   "language": "python",
   "name": "python3"
  },
  "language_info": {
   "codemirror_mode": {
    "name": "ipython",
    "version": 3
   },
   "file_extension": ".py",
   "mimetype": "text/x-python",
   "name": "python",
   "nbconvert_exporter": "python",
   "pygments_lexer": "ipython3",
   "version": "3.7.0"
  },
  "orig_nbformat": 4
 },
 "nbformat": 4,
 "nbformat_minor": 2
}
