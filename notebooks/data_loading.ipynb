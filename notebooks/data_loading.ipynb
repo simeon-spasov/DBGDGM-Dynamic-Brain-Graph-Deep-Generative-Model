{
 "cells": [
  {
   "cell_type": "code",
   "execution_count": 53,
   "source": [
    "import torch\n",
    "import numpy as np\n",
    "import networkx as nx\n",
    "from nilearn.connectome import ConnectivityMeasure\n",
    "import matplotlib.pyplot as plt"
   ],
   "outputs": [],
   "metadata": {}
  },
  {
   "cell_type": "code",
   "execution_count": 19,
   "source": [
    "path_to_file = \"data/UKB1000028_ts_sc2345.txt\"\n",
    "window_size = 10\n",
    "stride = 10\n",
    "top_percent = 5\n",
    "\n",
    "signal = np.loadtxt(path_to_file, delimiter=\",\").T\n",
    "time_len, num_nodes = signal.shape\n",
    "\n",
    "conn_measure = ConnectivityMeasure(kind=\"correlation\")\n",
    "\n",
    "window_idxs = (np.expand_dims(np.arange(window_size), 0) + np.expand_dims(np.arange(time_len, step=stride), 0).T)\n",
    "signal_windows = signal[window_idxs, :]\n",
    "dyn_conn = np.array([conn_measure.fit_transform([w])[0] for w in signal_windows])"
   ],
   "outputs": [],
   "metadata": {}
  },
  {
   "cell_type": "code",
   "execution_count": 20,
   "source": [
    "time_steps, num_nodes, _ = dyn_conn.shape\n",
    "\n",
    "graphs = []\n",
    "edges = []\n",
    "\n",
    "for t in range(time_steps):\n",
    "\n",
    "    conn_matrix = dyn_conn[t]\n",
    "    np.fill_diagonal(conn_matrix, 0.)\n",
    "\n",
    "    assert (conn_matrix.min() >=  -1.) and (conn_matrix.max() <= 1.)\n",
    "    \n",
    "    threshold = np.percentile(conn_matrix.flatten(), 100 - top_percent)  \n",
    "    conn_matrix[conn_matrix < threshold] = 0.\n",
    "\n",
    "    # conn_matrix[conn_matrix >= 0] = 1.\n",
    "\n",
    "    # assert (conn_matrix.min() >=  0.) and (conn_matrix.max() <= 1.)\n",
    "    g = nx.from_numpy_matrix(conn_matrix)\n",
    "\n",
    "    graphs += [g]\n",
    "    edges += [np.array(list(g.edges()))]\n",
    "\n",
    "edges = np.stack(edges)\n",
    "\n",
    "# assert len(graphs) == time_steps\n",
    "# assert len(list(graphs[0].edges())) < (num_nodes * (num_nodes - 1)) // 2\n",
    "# assert len(list(graphs[0].edges())) == (conn_matrix.sum() // 2)"
   ],
   "outputs": [],
   "metadata": {}
  },
  {
   "cell_type": "code",
   "execution_count": 47,
   "source": [
    "num_nodes = 3\n",
    "A = np.random.rand(num_nodes, num_nodes)\n",
    "A = (A + A.T) / 2\n",
    "np.fill_diagonal(A, 0.)\n",
    "\n",
    "G = nx.from_numpy_matrix(A)\n",
    "edges = np.array(list(G.edges()))\n",
    "print(edges.shape)"
   ],
   "outputs": [
    {
     "output_type": "stream",
     "name": "stdout",
     "text": [
      "(3, 2)\n"
     ]
    }
   ],
   "metadata": {}
  },
  {
   "cell_type": "code",
   "execution_count": 66,
   "source": [
    "w = np.concatenate((edges[:, 0], edges[:, 1]))\n",
    "c = np.concatenate((edges[:, 1], edges[:, 0]))\n",
    "print(len(w), len(c))\n",
    "print(w.shape)"
   ],
   "outputs": [
    {
     "output_type": "stream",
     "name": "stdout",
     "text": [
      "6 6\n",
      "(6,)\n"
     ]
    }
   ],
   "metadata": {}
  }
 ],
 "metadata": {
  "orig_nbformat": 4,
  "language_info": {
   "name": "python",
   "version": "3.7.0",
   "mimetype": "text/x-python",
   "codemirror_mode": {
    "name": "ipython",
    "version": 3
   },
   "pygments_lexer": "ipython3",
   "nbconvert_exporter": "python",
   "file_extension": ".py"
  },
  "kernelspec": {
   "name": "python3",
   "display_name": "Python 3.7.0 64-bit ('python': venv)"
  },
  "interpreter": {
   "hash": "44f0262a492f656dfa9015b652d1e3fa7a52f0859e8f73b60faf9fbbbf0ad3ec"
  }
 },
 "nbformat": 4,
 "nbformat_minor": 2
}