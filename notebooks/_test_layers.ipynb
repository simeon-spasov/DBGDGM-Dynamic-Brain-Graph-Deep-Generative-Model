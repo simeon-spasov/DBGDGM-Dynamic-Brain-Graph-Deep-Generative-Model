{
 "cells": [
  {
   "cell_type": "code",
   "execution_count": 1,
   "metadata": {},
   "outputs": [],
   "source": [
    "import torch\n",
    "\n",
    "import sys\n",
    "sys.path.append(\"../\")\n"
   ]
  },
  {
   "cell_type": "code",
   "execution_count": 2,
   "metadata": {},
   "outputs": [],
   "source": [
    "# from src.models.layers import GraphConv, GraphConvBlock\n",
    "\n",
    "# batch_size = 5\n",
    "# num_nodes = 10\n",
    "# num_feat = 11\n",
    "# hidden_dim = num_feat * 2\n",
    "\n",
    "# X = torch.rand(batch_size, num_nodes, num_feat)\n",
    "# A = torch.rand(batch_size, num_nodes, num_nodes)\n",
    "\n",
    "\n",
    "# gconv = GraphConv(num_feat, hidden_dim)\n",
    "# out = gconv(X, A)\n",
    "# print(out.shape)\n",
    "\n",
    "# gconv = GraphConvBlock(num_feat, hidden_dim, activation=\"relu\", batch_norm=True, dropout=0.3)\n",
    "# out = gconv(X, A)\n",
    "# print(out.shape)\n",
    "# print(gconv)\n"
   ]
  },
  {
   "cell_type": "code",
   "execution_count": 3,
   "metadata": {},
   "outputs": [],
   "source": [
    "# from src.models.layers import GraphConvLSTMCell\n",
    "# from src.models.RVGAE import GraphConvLSTM\n",
    "\n",
    "# batch_size = 5\n",
    "# num_nodes = 10\n",
    "# num_feat = 11\n",
    "# hidden_dim = num_feat * 2\n",
    "\n",
    "# X = torch.rand(batch_size, num_nodes, num_feat)\n",
    "# A = torch.rand(batch_size, num_nodes, num_nodes)\n",
    "\n",
    "# hidden_state = torch.zeros(X.shape[0], X.shape[1], hidden_dim)\n",
    "# cell_state =  torch.zeros(X.shape[0], X.shape[1], hidden_dim)\n",
    "\n",
    "# gconv = GraphConvLSTMCell(num_feat, hidden_dim)\n",
    "# hidden_state, cell_state = gconv(X, A, hidden_state, cell_state)\n",
    "# print(hidden_state.shape)\n",
    "# print(cell_state.shape)\n",
    "# print(gconv)\n",
    "\n",
    "# gconv = GraphConvLSTM(num_feat, hidden_dim, num_layers=1, bias=True)\n",
    "# hidden_state, cell_state = gconv(X, A)\n",
    "# print(hidden_state.shape)\n",
    "# print(cell_state.shape)"
   ]
  },
  {
   "cell_type": "code",
   "execution_count": 4,
   "metadata": {},
   "outputs": [
    {
     "name": "stdout",
     "output_type": "stream",
     "text": [
      "torch.Size([5, 7, 1, 1])\n",
      "torch.Size([5, 7, 1, 1])\n"
     ]
    }
   ],
   "source": [
    "from src.models.RVGAE import RVGAE\n",
    "\n",
    "batch_dim = 5\n",
    "time_dim = 7\n",
    "node_dim = 10\n",
    "feat_dim = 11\n",
    "hidden_dim = feat_dim * 2\n",
    "\n",
    "X = torch.rand(batch_dim, time_dim, node_dim, feat_dim)\n",
    "A = torch.rand(batch_dim, time_dim, node_dim, node_dim)\n",
    "\n",
    "model = RVGAE(feat_dim, hidden_dim=32, latent_dim=16, num_layers=1)\n",
    "A_recon, q_Z, p_Z = model(X, A)\n",
    "elbo, nll, kl = model.loss(A_recon, A, q_Z, p_Z)"
   ]
  },
  {
   "cell_type": "code",
   "execution_count": null,
   "metadata": {},
   "outputs": [],
   "source": []
  }
 ],
 "metadata": {
  "interpreter": {
   "hash": "51ec5c1ed60cf8befa8860ca3f08c814ab2925157d0f320a0272897779c8d6a1"
  },
  "kernelspec": {
   "display_name": "Python 3.7.0 64-bit ('python': venv)",
   "name": "python3"
  },
  "language_info": {
   "codemirror_mode": {
    "name": "ipython",
    "version": 3
   },
   "file_extension": ".py",
   "mimetype": "text/x-python",
   "name": "python",
   "nbconvert_exporter": "python",
   "pygments_lexer": "ipython3",
   "version": "3.7.0"
  },
  "orig_nbformat": 4
 },
 "nbformat": 4,
 "nbformat_minor": 2
}
