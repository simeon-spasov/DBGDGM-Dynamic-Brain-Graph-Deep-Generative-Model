{
 "cells": [
  {
   "cell_type": "code",
   "execution_count": 9,
   "metadata": {},
   "outputs": [],
   "source": [
    "import numpy as np\n",
    "import torch\n",
    "import random"
   ]
  },
  {
   "cell_type": "code",
   "execution_count": 10,
   "metadata": {},
   "outputs": [],
   "source": [
    "number_of_nodes = 5\n",
    "dimensions = 128\n",
    "walk_length = 80\n",
    "num_walks = 10\n",
    "p = 1\n",
    "q = 1"
   ]
  },
  {
   "cell_type": "code",
   "execution_count": 17,
   "metadata": {},
   "outputs": [],
   "source": [
    "A = np.random.randint(0, 2, size=(number_of_nodes, number_of_nodes))\n",
    "A = (((A + A.T) / 2) > 0) * 1.\n",
    "np.fill_diagonal(A, 0.)\n",
    "graph = torch.from_numpy(A).numpy()"
   ]
  },
  {
   "cell_type": "code",
   "execution_count": 18,
   "metadata": {},
   "outputs": [],
   "source": [
    "first_walk_probability = np.zeros(graph.shape)  \n",
    "walk_probability = np.zeros((len(graph), len(graph), len(graph)))"
   ]
  },
  {
   "cell_type": "code",
   "execution_count": 19,
   "metadata": {},
   "outputs": [
    {
     "name": "stdout",
     "output_type": "stream",
     "text": [
      "Computing prob for first walk...\n",
      "Computing prob for second walk...\n"
     ]
    }
   ],
   "source": [
    "print(\"Computing prob for first walk...\")\n",
    "sum_weight = np.sum(graph, axis=1)\n",
    "sum_weight = np.where(sum_weight == 0, 1, sum_weight)\n",
    "normalized_weight = graph / np.tile(sum_weight, (len(graph), 1)).T\n",
    "first_walk_probability = normalized_weight\n",
    "\n",
    "# Afterwards\n",
    "print(\"Computing prob for second walk...\")\n",
    "for last in range(len(graph)):\n",
    "    for current in range(len(graph)):\n",
    "        if graph[last, current] == 0:\n",
    "            continue\n",
    "        unbiased_unnormalized_weight = graph[current, :]\n",
    "        for destination in range(len(graph)):\n",
    "            if destination == last:\n",
    "                unbiased_unnormalized_weight[last] = unbiased_unnormalized_weight[last] / p\n",
    "            elif graph[last, destination] == 0:\n",
    "                unbiased_unnormalized_weight[last] = unbiased_unnormalized_weight[last] / q\n",
    "        biased_normalized_weight = unbiased_unnormalized_weight / np.sum(unbiased_unnormalized_weight)\n",
    "        walk_probability[last, current, :] = biased_normalized_weight"
   ]
  },
  {
   "cell_type": "code",
   "execution_count": 20,
   "metadata": {},
   "outputs": [],
   "source": [
    "all_walks = []\n",
    "\n",
    "for n_walk in range(num_walks):\n",
    "\n",
    "    n_th_walks = []\n",
    "\n",
    "    for source in range(len(graph)):\n",
    "\n",
    "        walk = [source]\n",
    "     \n",
    "\n",
    "        if np.sum(first_walk_probability[source, :]) != 0:\n",
    "\n",
    "            first_dest = np.random.choice(np.arange(len(graph)), 1, p=first_walk_probability[source, :])[0]\n",
    "            walk.append(first_dest)\n",
    "        \n",
    "        else:\n",
    "\n",
    "            walk = [str(source)]\n",
    "            n_th_walks.append(walk)\n",
    "            continue\n",
    "\n",
    "        while len(walk) < walk_length:\n",
    "\n",
    "            if np.sum(walk_probability[walk[-2], walk[-1], :]) != 0:\n",
    "\n",
    "                dest = np.random.choice(np.arange(len(graph)), 1, p=walk_probability[walk[-2], walk[-1], :])[0]\n",
    "                walk.append(dest)\n",
    "\n",
    "            else:\n",
    "                break\n",
    "\n",
    "        walk = [str(elm) for elm in walk]\n",
    "        n_th_walks.append(walk)\n",
    "\n",
    "    random.shuffle(n_th_walks)\n",
    "    all_walks += n_th_walks"
   ]
  },
  {
   "cell_type": "code",
   "execution_count": 24,
   "metadata": {},
   "outputs": [
    {
     "data": {
      "text/plain": [
       "(50, 80)"
      ]
     },
     "execution_count": 24,
     "metadata": {},
     "output_type": "execute_result"
    }
   ],
   "source": [
    "np.array(all_walks).shape"
   ]
  },
  {
   "cell_type": "code",
   "execution_count": null,
   "metadata": {},
   "outputs": [],
   "source": []
  }
 ],
 "metadata": {
  "interpreter": {
   "hash": "417ae7846aa939c5468458bfb1f6507418fb70e6e340aeb47010086c1bef9703"
  },
  "kernelspec": {
   "display_name": "Python 3.7.0 64-bit ('dynamic-graph-generative-model-vnSGx9wY-python': pipenv)",
   "language": "python",
   "name": "python3"
  },
  "language_info": {
   "codemirror_mode": {
    "name": "ipython",
    "version": 3
   },
   "file_extension": ".py",
   "mimetype": "text/x-python",
   "name": "python",
   "nbconvert_exporter": "python",
   "pygments_lexer": "ipython3",
   "version": "3.7.0"
  },
  "orig_nbformat": 4
 },
 "nbformat": 4,
 "nbformat_minor": 2
}
